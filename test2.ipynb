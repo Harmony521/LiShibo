{
 "cells": [
  {
   "cell_type": "code",
   "execution_count": 2,
   "metadata": {},
   "outputs": [],
   "source": [
    "from qiskit import QuantumCircuit,BasicAer,execute"
   ]
  },
  {
   "cell_type": "code",
   "execution_count": 3,
   "metadata": {},
   "outputs": [],
   "source": [
    "qc=QuantumCircuit(1,1)\n",
    "qc.h(0)\n",
    "qc.measure_all()"
   ]
  },
  {
   "cell_type": "code",
   "execution_count": 4,
   "metadata": {},
   "outputs": [
    {
     "data": {
      "text/plain": [
       "Result(backend_name='qasm_simulator', backend_version='2.1.0', qobj_id='671a95ba-566c-4ac0-854c-67e34a2e4c3e', job_id='92c2f17c-4e25-41a6-9031-59912cdbf794', success=True, results=[ExperimentResult(shots=1024, success=True, meas_level=2, data=ExperimentResultData(counts={'0x0': 506, '0x2': 518}), header=QobjExperimentHeader(clbit_labels=[['c', 0], ['meas', 0]], creg_sizes=[['c', 1], ['meas', 1]], global_phase=0.0, memory_slots=2, metadata={}, n_qubits=1, name='circuit-0', qreg_sizes=[['q', 1]], qubit_labels=[['q', 0]]), status=DONE, name='circuit-0', seed_simulator=2043037321, time_taken=0.0019958019256591797)], status=COMPLETED, status=QobjHeader(backend_name='qasm_simulator', backend_version='2.1.0'), time_taken=0.0019958019256591797)"
      ]
     },
     "execution_count": 4,
     "metadata": {},
     "output_type": "execute_result"
    }
   ],
   "source": [
    "backend=BasicAer.get_backend(\"qasm_simulator\")\n",
    "job=execute(qc,backend)\n",
    "result=job.result()\n",
    "result"
   ]
  },
  {
   "cell_type": "code",
   "execution_count": 5,
   "metadata": {},
   "outputs": [
    {
     "data": {
      "image/png": "[encoded data removed]",
      "text/plain": [
       "<Figure size 297.479x204.68 with 1 Axes>"
      ]
     },
     "execution_count": 5,
     "metadata": {},
     "output_type": "execute_result"
    }
   ],
   "source": [
    "qc.draw()\n",
    "qc.draw('mpl')"
   ]
  },
  {
   "cell_type": "code",
   "execution_count": 6,
   "metadata": {},
   "outputs": [
    {
     "name": "stdout",
     "output_type": "stream",
     "text": [
      "Statevector([0.707+0.j, 0.   +0.j, 0.   +0.j, 0.   +0.j, 0.   +0.j,\n",
      "             0.   +0.j, 0.   +0.j, 0.707+0.j],\n",
      "            dims=(2, 2, 2))\n"
     ]
    },
    {
     "data": {
      "text/html": [
       "<pre style=\"word-wrap: normal;white-space: pre;background: #fff0;line-height: 1.1;font-family: &quot;Courier New&quot;,Courier,monospace\">     ┌───┐          \n",
       "q_0: ┤ H ├──■────■──\n",
       "     └───┘┌─┴─┐  │  \n",
       "q_1: ─────┤ X ├──┼──\n",
       "          └───┘┌─┴─┐\n",
       "q_2: ──────────┤ X ├\n",
       "               └───┘</pre>"
      ],
      "text/plain": [
       "     ┌───┐          \n",
       "q_0: ┤ H ├──■────■──\n",
       "     └───┘┌─┴─┐  │  \n",
       "q_1: ─────┤ X ├──┼──\n",
       "          └───┘┌─┴─┐\n",
       "q_2: ──────────┤ X ├\n",
       "               └───┘"
      ]
     },
     "execution_count": 6,
     "metadata": {},
     "output_type": "execute_result"
    }
   ],
   "source": [
    "from qiskit import * \n",
    "circ = QuantumCircuit(3) #创建一个有三个量子比特的量子电路\n",
    "circ.h(0)    #给第0个比特加一个H门\n",
    "circ.cx(0, 1)    #给第0和1个比特加一个Cx门\n",
    "circ.cx(0, 2)\n",
    " \n",
    "#选择一个用于执行的后端，此处即态矢后端\n",
    "backend = Aer.get_backend('statevector_simulator')\n",
    "job = execute(circ, backend)    #execute()专门用于执行电路\n",
    "result = job.result()\n",
    " \n",
    "output = result.get_statevector(circ, decimals=3)\n",
    "print(output)\n",
    "circ.draw()"
   ]
  },
  {
   "cell_type": "code",
   "execution_count": 7,
   "metadata": {},
   "outputs": [
    {
     "name": "stderr",
     "output_type": "stream",
     "text": [
      "c:\\Users\\li\\AppData\\Local\\conda\\conda\\envs\\pytorch\\lib\\site-packages\\ipykernel_launcher.py:11: DeprecationWarning: The QuantumCircuit.__add__() method is being deprecated.Use the compose() method which is more flexible w.r.t circuit register compatibility.\n",
      "  # This is added back by InteractiveShellApp.init_path()\n"
     ]
    },
    {
     "data": {
      "image/png": "[encoded data removed]",
      "text/plain": [
       "<Figure size 507.997x264.88 with 1 Axes>"
      ]
     },
     "execution_count": 7,
     "metadata": {},
     "output_type": "execute_result"
    }
   ],
   "source": [
    "# 可以接续我们的测试代码\n",
    "# 再创建一个量子电路以进行测量操作\n",
    "# 绘图时会生成3 qubits + 3 bits = 6个道\n",
    "meas = QuantumCircuit(3, 3)\n",
    "# 在第0~2个量子比特道上加一个隔板以进行区分\n",
    "meas.barrier(range(3))\n",
    "# 建立从量子到经典的测量映射，相当于把测量结果移至经典道\n",
    "meas.measure(range(3), range(3))\n",
    " \n",
    "# 电路的可加性\n",
    "qc = circ + meas\n",
    " \n",
    "# 绘图（可选）\n",
    "qc.draw(\"mpl\")"
   ]
  },
  {
   "cell_type": "code",
   "execution_count": 8,
   "metadata": {},
   "outputs": [
    {
     "name": "stdout",
     "output_type": "stream",
     "text": [
      "{'111': 521, '000': 503}\n"
     ]
    }
   ],
   "source": [
    "# 导入OpenQASM后端\n",
    "backend2 = Aer.get_backend('qasm_simulator')\n",
    " \n",
    "# 基于OpenQASM后端运行我们的电路\n",
    "# 这里用参数shots把样本数设定为1024（然而事实上是默认值）\n",
    "job = execute(qc, backend2, shots=1024)\n",
    " \n",
    "# 获得结果\n",
    "result = job.result()\n",
    " \n",
    "counts = result.get_counts(qc)\n",
    "print(counts)"
   ]
  },
  {
   "cell_type": "code",
   "execution_count": 1,
   "metadata": {},
   "outputs": [
    {
     "data": {
      "text/plain": [
       "2"
      ]
     },
     "execution_count": 1,
     "metadata": {},
     "output_type": "execute_result"
    }
   ],
   "source": [
    "a=True+True\n",
    "result = True + True\n",
    "print(result)"
   ]
  },
  {
   "cell_type": "code",
   "execution_count": 11,
   "metadata": {},
   "outputs": [
    {
     "name": "stdout",
     "output_type": "stream",
     "text": [
      "{'00': 1024}\n"
     ]
    }
   ],
   "source": [
    "from qiskit import QuantumCircuit, Aer, execute\n",
    "\n",
    "# 创建一个有两个量子比特的量子线路\n",
    "qc = QuantumCircuit(2)\n",
    "\n",
    "# 应用CNOT门，第一个量子比特为控制，第二个量子比特为目标\n",
    "qc.cx(0, 1)\n",
    "\n",
    "# 测量量子比特\n",
    "qc.measure_all()\n",
    "\n",
    "# 使用模拟器运行量子线路\n",
    "simulator = Aer.get_backend('qasm_simulator')\n",
    "job = execute(qc, simulator, shots=1024)\n",
    "result = job.result().get_counts()\n",
    "\n",
    "print(result)"
   ]
  },
  {
   "cell_type": "code",
   "execution_count": 13,
   "metadata": {},
   "outputs": [
    {
     "name": "stdout",
     "output_type": "stream",
     "text": [
      "{'00': 497, '11': 503}\n"
     ]
    }
   ],
   "source": [
    "from qiskit import QuantumCircuit, Aer, execute\n",
    "\n",
    "# 创建一个包含两个量子比特和两个经典比特的量子电路\n",
    "qc = QuantumCircuit(2, 2)\n",
    "qc.h(0)\n",
    "# 执行异或运算\n",
    "qc.cx(0, 1)  # 应用CNOT门（控制比特0，目标比特1）来执行异或运算\n",
    "\n",
    "# 测量量子比特并将结果存储到经典比特中\n",
    "qc.measure([0, 1], [0, 1])\n",
    "\n",
    "# 使用模拟器运行量子电路\n",
    "simulator = Aer.get_backend('qasm_simulator')\n",
    "job = execute(qc, simulator, shots=1000)\n",
    "result = job.result()\n",
    "\n",
    "# 打印测量结果\n",
    "counts = result.get_counts(qc)\n",
    "print(counts)"
   ]
  }
 ],
 "metadata": {
  "kernelspec": {
   "display_name": "pytorch",
   "language": "python",
   "name": "python3"
  },
  "language_info": {
   "codemirror_mode": {
    "name": "ipython",
    "version": 3
   },
   "file_extension": ".py",
   "mimetype": "text/x-python",
   "name": "python",
   "nbconvert_exporter": "python",
   "pygments_lexer": "ipython3",
   "version": "3.6.13"
  }
 },
 "nbformat": 4,
 "nbformat_minor": 2
}
